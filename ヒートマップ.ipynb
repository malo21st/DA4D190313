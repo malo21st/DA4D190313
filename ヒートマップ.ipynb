{
 "cells": [
  {
   "cell_type": "code",
   "execution_count": 1,
   "metadata": {
    "scrolled": true
   },
   "outputs": [
    {
     "data": {
      "application/vnd.jupyter.widget-view+json": {
       "model_id": "c4c55db617b54485a4320d209addeb2c",
       "version_major": 2,
       "version_minor": 0
      },
      "text/plain": [
       "interactive(children=(Dropdown(description='対象：', options={'件数': 'count', '死亡': 'death', '重傷': 'serious', '軽傷'…"
      ]
     },
     "metadata": {},
     "output_type": "display_data"
    }
   ],
   "source": [
    "import sqlite3\n",
    "import pandas as pd\n",
    "import matplotlib.pyplot as plt\n",
    "from ipywidgets import interact, widgets\n",
    "import seaborn as sns\n",
    "\n",
    "DAY = ['月', '火', '水', '木', '金', '土', '日']\n",
    "TIME = [str(i) for i in range(24)]\n",
    "\n",
    "conn = sqlite3.connect('DB/accident.sqlite')\n",
    "query = \"SELECT day, time, death, serious, injury FROM master;\"\n",
    "df = pd.read_sql_query(query,conn)\n",
    "\n",
    "df['count'] = 1\n",
    "\n",
    "choice = widgets.Dropdown(\n",
    "    options={'件数':'count', '死亡':'death', '重傷':'serious', '軽傷':'injury'},\n",
    "    value='count',\n",
    "    description='対象：'\n",
    ")\n",
    "\n",
    "@interact(target=choice)\n",
    "def show_heatmap(target):\n",
    "    df_pivot = pd.pivot_table(data=df, values=target, index='day', columns='time', aggfunc='sum')\n",
    "    df_hmap = pd.DataFrame(df_pivot, index=DAY, columns=TIME)\n",
    "\n",
    "    pd.set_option('display.max_columns', 25)\n",
    "    df_total = df_hmap.copy()\n",
    "    df_total['計'] = df_total.sum(axis=1)\n",
    "    df_total.loc['計'] = df_total.sum(axis=0)\n",
    "    display(df_total)\n",
    "\n",
    "    plt.figure(figsize=(15,3))\n",
    "    sns.heatmap(df_hmap, cmap='hot')\n",
    "    "
   ]
  },
  {
   "cell_type": "code",
   "execution_count": null,
   "metadata": {},
   "outputs": [],
   "source": [
    "\n",
    "\n",
    "\n",
    "\n",
    "\n"
   ]
  }
 ],
 "metadata": {
  "kernelspec": {
   "display_name": "Python 3",
   "language": "python",
   "name": "python3"
  },
  "language_info": {
   "codemirror_mode": {
    "name": "ipython",
    "version": 3
   },
   "file_extension": ".py",
   "mimetype": "text/x-python",
   "name": "python",
   "nbconvert_exporter": "python",
   "pygments_lexer": "ipython3",
   "version": "3.7.1"
  }
 },
 "nbformat": 4,
 "nbformat_minor": 2
}
